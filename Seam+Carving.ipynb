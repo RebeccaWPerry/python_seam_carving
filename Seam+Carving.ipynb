{
 "cells": [
  {
   "cell_type": "markdown",
   "metadata": {},
   "source": [
    "This notebook is for an interactive workshop on using Python for image analysis - with the Seam Carving algorithm as an example. We'll start out with some setup and background to show everyone that images are simply arrays of numbers that can be manipulated like any other data. Then we'll do a quick demonstration of the Seam Carving algorithm which uses pixelwise calculations to stealthily resize images.\n",
    "\n",
    "For more seam_carving with Python, you may want to investigate scikit-image and its built-in seam carving functionality:<br> http://scikit-image.org/docs/dev/auto_examples/transform/plot_seam_carving.html\n",
    "\n",
    "Here, we implement seam carving with ony the most standard scientific python libraries to show the pixelwise manipulation that is so powerful to be used in all kinds of applications.\n",
    "\n",
    "Author: Rebecca Perry, reperry@wayfair.com\n",
    "Created: January, 2018"
   ]
  },
  {
   "cell_type": "markdown",
   "metadata": {},
   "source": [
    "# 1. Setup"
   ]
  },
  {
   "cell_type": "markdown",
   "metadata": {},
   "source": [
    "Check that Matplotlib imports correctly by making a plot. Click into the first \"cell\" and then type shift-enter to run the code in that cell."
   ]
  },
  {
   "cell_type": "code",
   "execution_count": null,
   "metadata": {},
   "outputs": [],
   "source": [
    "%matplotlib inline\n",
    "\n",
    "import scipy.misc\n",
    "import numpy as np\n",
    "import matplotlib.pyplot as plt\n",
    "import seamcarving #separate .py file supplied alongside this notebook\n",
    "\n",
    "plt.rcParams['figure.figsize'] = (10, 6)\n",
    "plt.plot([1,2,3],[2,3,6],'-ro')"
   ]
  },
  {
   "cell_type": "markdown",
   "metadata": {},
   "source": [
    "Exercise 1: \n",
    "\n",
    "Check that scipy.misc imported correctly by reading and displaying an image. To load the image, you will need to correct the file path to match the file structure on your computer. \n",
    "\n",
    "(Products in image found at https://www.wayfair.com/finds !)"
   ]
  },
  {
   "cell_type": "code",
   "execution_count": null,
   "metadata": {},
   "outputs": [],
   "source": [
    "imfilepath = r'/home/becca/Documents/teaching/python_seam_carving/finds.png'\n",
    "im = scipy.misc.imread(imfilepath)\n",
    "plt.imshow(im)"
   ]
  },
  {
   "cell_type": "markdown",
   "metadata": {},
   "source": [
    "# 2. The Contents of a Digital Image"
   ]
  },
  {
   "cell_type": "markdown",
   "metadata": {},
   "source": [
    "A very brief overview of Python data types before an introduction to what the guts of a digital image look like."
   ]
  },
  {
   "cell_type": "code",
   "execution_count": null,
   "metadata": {
    "collapsed": true
   },
   "outputs": [],
   "source": [
    "#integer vs. float\n",
    "mynumber = 8\n",
    "print(mynumber)\n",
    "type(mynumber)"
   ]
  },
  {
   "cell_type": "code",
   "execution_count": null,
   "metadata": {
    "collapsed": true
   },
   "outputs": [],
   "source": [
    "myothernumber = 8.0\n",
    "print(myothernumber)\n",
    "type(myothernumber)"
   ]
  },
  {
   "cell_type": "code",
   "execution_count": null,
   "metadata": {
    "collapsed": true
   },
   "outputs": [],
   "source": [
    "#lists and slicing\n",
    "mylist = [5,6,7,'banana']\n",
    "print(mylist)\n",
    "print(mylist[2])\n",
    "print(mylist[1:3])\n",
    "print(mylist[1:])\n",
    "print(mylist[:2])\n",
    "type(mylist)"
   ]
  },
  {
   "cell_type": "markdown",
   "metadata": {},
   "source": [
    "Exercise 2: \n",
    "    \n",
    "Use the following cell to slice into mylist to return the last two values of the list."
   ]
  },
  {
   "cell_type": "code",
   "execution_count": null,
   "metadata": {
    "collapsed": true
   },
   "outputs": [],
   "source": []
  },
  {
   "cell_type": "code",
   "execution_count": null,
   "metadata": {
    "collapsed": true
   },
   "outputs": [],
   "source": [
    "#numpy arrays\n",
    "myarray = np.array([[1,2,3],[4,5,6],[7,8,9]])\n",
    "print(myarray)"
   ]
  },
  {
   "cell_type": "code",
   "execution_count": null,
   "metadata": {
    "collapsed": true
   },
   "outputs": [],
   "source": [
    "plt.imshow(myarray)\n",
    "plt.gray()\n",
    "plt.colorbar()\n",
    "plt.title('A 3x3 Array Displayed as an Image')"
   ]
  },
  {
   "cell_type": "code",
   "execution_count": null,
   "metadata": {
    "collapsed": true
   },
   "outputs": [],
   "source": [
    "im = scipy.misc.imread(imfilepath)\n",
    "plt.imshow(im)"
   ]
  },
  {
   "cell_type": "code",
   "execution_count": null,
   "metadata": {
    "collapsed": true
   },
   "outputs": [],
   "source": [
    "print(type(im))\n",
    "print(np.shape(im))\n",
    "print(type(im[0,0,0]))\n",
    "print('Image array min: {0}\\nImage array max: {1}'.format(np.min(im),np.max(im)))"
   ]
  },
  {
   "cell_type": "markdown",
   "metadata": {},
   "source": [
    "The image is an array of unsigned 8-bit integers with values ranging from 0 to 255. The image is 375 pixels high and 445 pixels wide. Each pixel has three values for the amount of red, green, and blue in the color at that pixel."
   ]
  },
  {
   "cell_type": "code",
   "execution_count": null,
   "metadata": {
    "collapsed": true
   },
   "outputs": [],
   "source": [
    "#see the pixel values in a section of the image\n",
    "#to index into this color image, use three values or ranges of values: \n",
    "#rows, columns, and colors (in that order)\n",
    "print(im[50:100,350:400,:])\n",
    "plt.imshow(im[50:100,350:400,:],interpolation='None')"
   ]
  },
  {
   "cell_type": "code",
   "execution_count": null,
   "metadata": {
    "collapsed": true
   },
   "outputs": [],
   "source": [
    "#Show the red, green, and blue channels of the image\n",
    "blank = np.zeros(np.shape(im)).astype(np.uint8)\n",
    "\n",
    "plt.figure(figsize=[20,20])\n",
    "\n",
    "plt.subplot(1,3,1)\n",
    "red = np.copy(blank)\n",
    "red[:,:,0] = im[:,:,0]\n",
    "plt.imshow(red)\n",
    "\n",
    "plt.subplot(1,3,2)\n",
    "green = np.copy(blank)\n",
    "green[:,:,1]=im[:,:,1]\n",
    "plt.imshow(green)\n",
    "\n",
    "plt.subplot(1,3,3)\n",
    "blue = np.copy(blank)\n",
    "blue[:,:,2]=im[:,:,2]\n",
    "plt.imshow(blue)"
   ]
  },
  {
   "cell_type": "code",
   "execution_count": null,
   "metadata": {
    "collapsed": true
   },
   "outputs": [],
   "source": [
    "#how does it look if we combine two of the three colors?\n",
    "bluegreen = np.copy(blank)\n",
    "bluegreen[:,:,1]=im[:,:,1]\n",
    "bluegreen[:,:,2]=im[:,:,2]\n",
    "plt.imshow(bluegreen)"
   ]
  },
  {
   "cell_type": "code",
   "execution_count": null,
   "metadata": {
    "collapsed": true
   },
   "outputs": [],
   "source": [
    "#recover the original image by setting the red, green, and blue channels \n",
    "#the new image to the red, green, and blue channels in the original\n",
    "allcolors = np.copy(blank)\n",
    "allcolors[:,:,0]=im[:,:,0]\n",
    "allcolors[:,:,1]=im[:,:,1]\n",
    "allcolors[:,:,2]=im[:,:,2]\n",
    "plt.imshow(allcolors)"
   ]
  },
  {
   "cell_type": "markdown",
   "metadata": {},
   "source": [
    "Exercise 3: \n",
    "\n",
    "Check for understanding: Make one 200x200 pixel image that is entirely black, another that is entirely white, and a third that is half one color and half another color.\n",
    "\n",
    "Need RGB values? http://htmlcolorcodes.com/"
   ]
  },
  {
   "cell_type": "code",
   "execution_count": null,
   "metadata": {
    "collapsed": true
   },
   "outputs": [],
   "source": []
  },
  {
   "cell_type": "markdown",
   "metadata": {},
   "source": [
    "A digital image is simply an array of data that we can perform operations on like any other data. When viewed this way, you can come up with many clever image manipulations!"
   ]
  },
  {
   "cell_type": "markdown",
   "metadata": {},
   "source": [
    "# 3. Seam Carving Components"
   ]
  },
  {
   "cell_type": "markdown",
   "metadata": {},
   "source": [
    "Seam carving is a clever algorithm for reshaping images by removing the least interesting pixels. This could be useful for showing the same image on screens with different aspect ratios. Instead of removing whole columns from the image, we find and remove optimal single-pixel-wide paths running from the top of the image to the bottom of the image.\n",
    "\n",
    "Original seam carving paper: Shai Avidan and Ariel Shamir, 2007 graphics.cs.cmu.edu/courses/15-463/2007_fall/hw/proj2/imret.pdf"
   ]
  },
  {
   "cell_type": "code",
   "execution_count": null,
   "metadata": {
    "collapsed": true
   },
   "outputs": [],
   "source": [
    "#load in a fresh copy of the image\n",
    "im = scipy.misc.imread(imfilepath)\n",
    "plt.imshow(im)\n",
    "np.shape(im)"
   ]
  },
  {
   "cell_type": "code",
   "execution_count": null,
   "metadata": {
    "collapsed": true
   },
   "outputs": [],
   "source": [
    "# cropping columns from one side results in lost content\n",
    "plt.imshow(im[:,:400,:])"
   ]
  },
  {
   "cell_type": "code",
   "execution_count": null,
   "metadata": {
    "collapsed": true
   },
   "outputs": [],
   "source": [
    "#resizing image results in distorted products\n",
    "narrow = scipy.misc.imresize(im, [375,400,3])\n",
    "plt.imshow(narrow)"
   ]
  },
  {
   "cell_type": "markdown",
   "metadata": {},
   "source": [
    "And now, the seam carving approach! This involves 4 steps to make the image narrower by 1 pixel-width:\n",
    "\n",
    "(1) Calculating how interesting each pixel is: this is the \"energy\" of each pixel<br>\n",
    "(2) Calculating the sum of the energy along paths that connect the top and bottom of the image<br>\n",
    "(3) Identify the path that collects the least energy<br>\n",
    "(4) Remove the pixels along this selected path from the image<br>"
   ]
  },
  {
   "cell_type": "code",
   "execution_count": null,
   "metadata": {
    "collapsed": true,
    "scrolled": true
   },
   "outputs": [],
   "source": [
    "# (1) calculate how interesting each pixel is: the \"energy\" of each pixel\n",
    "\n",
    "# convert the color image into grayscale by adding the three color\n",
    "# layers together\n",
    "gray = np.sum(im,axis=2)\n",
    "\n",
    "# I am defining the energy as the difference between a pixel and \n",
    "# its 4 neighbors, could also use edge detection (e.g. Sobel)\n",
    "energy = np.copy(gray)\n",
    "energy[1:-1,1:-1] = (abs(gray[1:-1,1:-1]-gray[:-2,1:-1])+\n",
    "                     abs(gray[1:-1,1:-1]-gray[2:,1:-1])+\n",
    "                     abs(gray[1:-1,1:-1]-gray[1:-1,:-2])+\n",
    "                     abs(gray[1:-1,1:-1]-gray[1:-1,2:]))\n",
    "#treat last row of energy separately\n",
    "energy[-1,1:-1] = (abs(gray[-1,1:-1]-gray[-2,1:-1])+\n",
    "                     abs(gray[-1,1:-1]-gray[-1,:-2])+\n",
    "                     abs(gray[-1,1:-1]-gray[-1,2:]))\n",
    "#NOTE: ignoring top row and left and right edges for now\n",
    "\n",
    "plt.imshow(energy.astype(np.uint8))\n",
    "plt.jet()"
   ]
  },
  {
   "cell_type": "code",
   "execution_count": null,
   "metadata": {
    "collapsed": true
   },
   "outputs": [],
   "source": [
    "#(2) calculate the cumulative energy you collect by following a path\n",
    "# from the top to the bottom of the image. At each pixel, show the \n",
    "# minimum value of cumulative energy to get there.\n",
    "energypaths = np.zeros(np.shape(gray))\n",
    "energypaths[0,:] = energy[0,:]\n",
    "\n",
    "num_rows, num_cols = np.shape(gray)\n",
    "\n",
    "for row in range(1,num_rows):\n",
    "    for col in range(num_cols):\n",
    "        if col==0:\n",
    "            energypaths[row,col] = (energy[row,col]+\n",
    "                                   min(energypaths[row-1,:2]))\n",
    "        elif col==num_cols-1:\n",
    "            energypaths[row,col] = (energy[row,col]+\n",
    "                                    min(energypaths[row-1,col-1:num_cols]))\n",
    "        else:\n",
    "            energypaths[row,col] = (energy[row,col]+\n",
    "                                    min(energypaths[row-1,col-1:col+2]))\n",
    "            \n",
    "plt.imshow(energypaths)\n",
    "plt.title('Brighter Colors are more \"Interesting\" pars of the Image')"
   ]
  },
  {
   "cell_type": "code",
   "execution_count": null,
   "metadata": {
    "collapsed": true
   },
   "outputs": [],
   "source": [
    "#(3) find the seam running from top edge to bottom edge with the lowest energy\n",
    "\n",
    "#start at the bottom to find the smallest value of accumulated energy\n",
    "minima = np.where(energypaths[-1,:]==energypaths[-1,:].min())[0]\n",
    "#settle ties among multiple equivalent minima by choosing randomly\n",
    "minimum = np.random.choice(minima)\n",
    "\n",
    "#for each row above the bottom one, determine the matching column value\n",
    "colvals = np.zeros(num_rows).astype(int)\n",
    "colvals[-1] = minimum\n",
    "\n",
    "for row in np.arange(num_rows-2,-1,-1):\n",
    "    prevcol = colvals[row+1]\n",
    "    if prevcol!=0 and prevcol!=num_cols-1:\n",
    "        if (energypaths[row,prevcol-1]<energypaths[row,prevcol] and \n",
    "           energypaths[row,prevcol-1]<energypaths[row,prevcol+1]):\n",
    "            colvals[row] = prevcol-1\n",
    "        elif (energypaths[row,prevcol+1]<energypaths[row,prevcol-1] and \n",
    "              energypaths[row,prevcol+1]<energypaths[row,prevcol]):\n",
    "            colvals[row] = prevcol+1\n",
    "        else:\n",
    "            colvals[row] = prevcol  \n",
    "    if prevcol==0:\n",
    "        if energypaths[row,prevcol]<=energypaths[row,prevcol+1]:\n",
    "            colvals[row] = prevcol    \n",
    "        else:\n",
    "            colvals[row] = prevcol+1\n",
    "    if prevcol==num_cols-1:\n",
    "        if energypaths[row,prevcol]<=energypaths[row,prevcol-1]:\n",
    "            colvals[row] = prevcol    \n",
    "        else:\n",
    "            colvals[row] = prevcol-1"
   ]
  },
  {
   "cell_type": "code",
   "execution_count": null,
   "metadata": {
    "collapsed": true
   },
   "outputs": [],
   "source": [
    "#show the seam to be removed\n",
    "seamdisplay = np.copy(im)\n",
    "\n",
    "seamdisplay[range(num_rows),colvals,:]=[255,0,0]\n",
    "if colvals.min()>0:\n",
    "    seamdisplay[range(num_rows),colvals-1,:]=[255,0,0]\n",
    "if colvals.max()<num_cols-2:\n",
    "    seamdisplay[range(num_rows),colvals+1,:]=[255,0,0]\n",
    "\n",
    "plt.figure(figsize=(12,12))\n",
    "plt.imshow(seamdisplay[:,:])"
   ]
  },
  {
   "cell_type": "code",
   "execution_count": null,
   "metadata": {
    "collapsed": true
   },
   "outputs": [],
   "source": [
    "smallerim = seamcarving.removeseam(im,colvals)\n",
    "np.shape(smallerim)\n",
    "plt.imshow(smallerim)\n",
    "print('Starting image size: {0}'.format(np.shape(seamdisplay)))\n",
    "print('Resulting image size: {0}'.format(np.shape(smallerim)))"
   ]
  },
  {
   "cell_type": "markdown",
   "metadata": {},
   "source": [
    "# 4. Reusing the code to substantially resize images"
   ]
  },
  {
   "cell_type": "code",
   "execution_count": null,
   "metadata": {
    "collapsed": true
   },
   "outputs": [],
   "source": [
    "original = scipy.misc.imread(r'/home/becca/Documents/teaching/python_seam_carving/finds.png')\n",
    "workingim = np.copy(original)\n",
    "for i in range(60):\n",
    "    seam, energypaths = seamcarving.findseam(workingim)\n",
    "    workingim = seamcarving.removeseam(workingim,seam)"
   ]
  },
  {
   "cell_type": "code",
   "execution_count": null,
   "metadata": {
    "scrolled": false
   },
   "outputs": [],
   "source": [
    "fig = plt.figure(figsize=(8,12))\n",
    "plt.subplot(3,1,1)\n",
    "plt.imshow(energypaths)\n",
    "plt.title('Final Energy Map')\n",
    "\n",
    "axes = plt.subplot(3,1,2,facecolor='gray')\n",
    "plt.imshow(original)\n",
    "plt.title('Starting size: {0} x {1}'.format(np.shape(original)[0],\n",
    "                                            np.shape(original)[1]))\n",
    "plt.axis('equal')\n",
    "\n",
    "plt.subplot(3,1,3,facecolor='gray')\n",
    "plt.imshow(workingim)\n",
    "plt.title('Final size: {0} x {1}'.format(np.shape(workingim)[0],\n",
    "                                         np.shape(workingim)[1]))\n",
    "plt.axis('equal')\n",
    "\n",
    "print('Starting image size: {0}'.format(np.shape(original)))\n",
    "print('Resulting image size: {0}'.format(np.shape(workingim)))"
   ]
  },
  {
   "cell_type": "markdown",
   "metadata": {},
   "source": [
    "Exercise 4:<br>\n",
    "Try another image! Remember to edit the file path to direct to the image on your computer. What are the results like when you remove different numbers of paths?"
   ]
  },
  {
   "cell_type": "code",
   "execution_count": null,
   "metadata": {
    "collapsed": true,
    "scrolled": false
   },
   "outputs": [],
   "source": [
    "#Image attribution: By Getfunky Paris (Flickr) [CC BY 2.0 (http://creativecommons.org/licenses/by/2.0)], via Wikimedia Commons\n",
    "#https://commons.wikimedia.org/wiki/File%3AEiffel_Tower_and_Pont_Alexandre_III_at_night.jpg\n",
    "\n",
    "original = scipy.misc.imread(r'/home/becca/Documents/teaching/python_seam_carving/Eiffel_Tower_and_Pont_Alexandre_III_at_night.jpg')\n",
    "workingim = np.copy(original)\n",
    "paths = 50\n",
    "\n",
    "for i in range(paths):\n",
    "    seam, energypaths = seamcarving.findseam(workingim)\n",
    "    workingim = seamcarving.removeseam(workingim,seam)"
   ]
  },
  {
   "cell_type": "code",
   "execution_count": null,
   "metadata": {},
   "outputs": [],
   "source": [
    "fig = plt.figure(figsize=(8,12))\n",
    "plt.subplot(3,1,1)\n",
    "plt.imshow(energypaths)\n",
    "\n",
    "axes = plt.subplot(3,1,2,facecolor='gray')\n",
    "plt.imshow(original)\n",
    "plt.title('Starting size: {0} x {1}'.format(np.shape(original)[0],np.shape(original)[1]))\n",
    "plt.axis('equal')\n",
    "\n",
    "plt.subplot(3,1,3,facecolor='gray')\n",
    "plt.imshow(workingim)\n",
    "plt.title('Final size: {0} x {1}'.format(np.shape(workingim)[0],np.shape(workingim)[1]))\n",
    "plt.axis('equal')\n",
    "\n",
    "print('Starting image size: {0}'.format(np.shape(original)))\n",
    "print('Resulting image size: {0}'.format(np.shape(workingim)))"
   ]
  },
  {
   "cell_type": "markdown",
   "metadata": {},
   "source": [
    "You have now seam-carved some images! This workshop introduced the structure of most digital images: RGB values per pixel and then showed an example of how you can use those values to inform a clever manipulation of images. What other manipulations would you like to do with the RGB values or grayscale values as input?\n",
    "\n",
    "Questions? Please feel free to contact me at:\n",
    "reperry@wayfair.com"
   ]
  }
 ],
 "metadata": {
  "kernelspec": {
   "display_name": "Python 3",
   "language": "python",
   "name": "python3"
  },
  "language_info": {
   "codemirror_mode": {
    "name": "ipython",
    "version": 3
   },
   "file_extension": ".py",
   "mimetype": "text/x-python",
   "name": "python",
   "nbconvert_exporter": "python",
   "pygments_lexer": "ipython3",
   "version": "3.6.2"
  }
 },
 "nbformat": 4,
 "nbformat_minor": 2
}
